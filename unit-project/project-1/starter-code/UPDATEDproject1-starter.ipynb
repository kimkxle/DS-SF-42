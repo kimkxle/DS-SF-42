{
 "cells": [
  {
   "cell_type": "markdown",
   "metadata": {},
   "source": [
    "# Project 1\n",
    "\n",
    "In this first project you will create a framework to scope out data science projects. This framework will provide you with a guide to develop a well-articulated problem statement and analysis plan that will be robust and reproducible."
   ]
  },
  {
   "cell_type": "markdown",
   "metadata": {},
   "source": [
    "### Read and evaluate the following problem statement: \n",
    "Determine which free-tier customers will covert to paying customers, using demographic data collected at signup (age, gender, location, and profession) and customer useage data (days since last log in, and activity score 1 = active user, 0= inactive user) based on Hooli data from Jan-Apr 2015. \n"
   ]
  },
  {
   "cell_type": "markdown",
   "metadata": {},
   "source": [
    "#### 1. What is the outcome?"
   ]
  },
  {
   "cell_type": "markdown",
   "metadata": {},
   "source": [
    "Answer: paying customers (yes/no)"
   ]
  },
  {
   "cell_type": "markdown",
   "metadata": {},
   "source": [
    "#### 2. What are the predictors/covariates? "
   ]
  },
  {
   "cell_type": "markdown",
   "metadata": {},
   "source": [
    "Answer: age, gender, location, and profession, days since last log in, and activity score 1 = active user, 0= inactive user"
   ]
  },
  {
   "cell_type": "markdown",
   "metadata": {},
   "source": [
    "#### 3. What timeframe is this data relevent for?"
   ]
  },
  {
   "cell_type": "markdown",
   "metadata": {},
   "source": [
    "Answer: Jan-Apr 2015"
   ]
  },
  {
   "cell_type": "markdown",
   "metadata": {},
   "source": [
    "#### 4. What is the hypothesis?"
   ]
  },
  {
   "cell_type": "markdown",
   "metadata": {},
   "source": [
    "Answer: Demographic and days since last log in, and activity score will allow us to predict if a customer will be a paying customer"
   ]
  },
  {
   "cell_type": "markdown",
   "metadata": {},
   "source": [
    "## Let's get started with our UCLA admissions dataset"
   ]
  },
  {
   "cell_type": "code",
   "execution_count": 3,
   "metadata": {
    "collapsed": true
   },
   "outputs": [],
   "source": [
    "import pandas as pd\n",
    "df = pd.read_csv(\"../assets/admissions.csv\")"
   ]
  },
  {
   "cell_type": "code",
   "execution_count": 12,
   "metadata": {},
   "outputs": [
    {
     "data": {
      "text/html": [
       "<div>\n",
       "<style>\n",
       "    .dataframe thead tr:only-child th {\n",
       "        text-align: right;\n",
       "    }\n",
       "\n",
       "    .dataframe thead th {\n",
       "        text-align: left;\n",
       "    }\n",
       "\n",
       "    .dataframe tbody tr th {\n",
       "        vertical-align: top;\n",
       "    }\n",
       "</style>\n",
       "<table border=\"1\" class=\"dataframe\">\n",
       "  <thead>\n",
       "    <tr style=\"text-align: right;\">\n",
       "      <th></th>\n",
       "      <th>admit</th>\n",
       "      <th>gre</th>\n",
       "      <th>gpa</th>\n",
       "      <th>prestige</th>\n",
       "    </tr>\n",
       "  </thead>\n",
       "  <tbody>\n",
       "    <tr>\n",
       "      <th>0</th>\n",
       "      <td>0</td>\n",
       "      <td>380.0</td>\n",
       "      <td>3.61</td>\n",
       "      <td>3.0</td>\n",
       "    </tr>\n",
       "    <tr>\n",
       "      <th>1</th>\n",
       "      <td>1</td>\n",
       "      <td>660.0</td>\n",
       "      <td>3.67</td>\n",
       "      <td>3.0</td>\n",
       "    </tr>\n",
       "    <tr>\n",
       "      <th>2</th>\n",
       "      <td>1</td>\n",
       "      <td>800.0</td>\n",
       "      <td>4.00</td>\n",
       "      <td>1.0</td>\n",
       "    </tr>\n",
       "    <tr>\n",
       "      <th>3</th>\n",
       "      <td>1</td>\n",
       "      <td>640.0</td>\n",
       "      <td>3.19</td>\n",
       "      <td>4.0</td>\n",
       "    </tr>\n",
       "    <tr>\n",
       "      <th>4</th>\n",
       "      <td>0</td>\n",
       "      <td>520.0</td>\n",
       "      <td>2.93</td>\n",
       "      <td>4.0</td>\n",
       "    </tr>\n",
       "    <tr>\n",
       "      <th>5</th>\n",
       "      <td>1</td>\n",
       "      <td>760.0</td>\n",
       "      <td>3.00</td>\n",
       "      <td>2.0</td>\n",
       "    </tr>\n",
       "    <tr>\n",
       "      <th>6</th>\n",
       "      <td>1</td>\n",
       "      <td>560.0</td>\n",
       "      <td>2.98</td>\n",
       "      <td>1.0</td>\n",
       "    </tr>\n",
       "    <tr>\n",
       "      <th>7</th>\n",
       "      <td>0</td>\n",
       "      <td>400.0</td>\n",
       "      <td>3.08</td>\n",
       "      <td>2.0</td>\n",
       "    </tr>\n",
       "    <tr>\n",
       "      <th>8</th>\n",
       "      <td>1</td>\n",
       "      <td>540.0</td>\n",
       "      <td>3.39</td>\n",
       "      <td>3.0</td>\n",
       "    </tr>\n",
       "    <tr>\n",
       "      <th>9</th>\n",
       "      <td>0</td>\n",
       "      <td>700.0</td>\n",
       "      <td>3.92</td>\n",
       "      <td>2.0</td>\n",
       "    </tr>\n",
       "    <tr>\n",
       "      <th>10</th>\n",
       "      <td>0</td>\n",
       "      <td>800.0</td>\n",
       "      <td>4.00</td>\n",
       "      <td>4.0</td>\n",
       "    </tr>\n",
       "    <tr>\n",
       "      <th>11</th>\n",
       "      <td>0</td>\n",
       "      <td>440.0</td>\n",
       "      <td>3.22</td>\n",
       "      <td>1.0</td>\n",
       "    </tr>\n",
       "    <tr>\n",
       "      <th>12</th>\n",
       "      <td>1</td>\n",
       "      <td>760.0</td>\n",
       "      <td>4.00</td>\n",
       "      <td>1.0</td>\n",
       "    </tr>\n",
       "    <tr>\n",
       "      <th>13</th>\n",
       "      <td>0</td>\n",
       "      <td>700.0</td>\n",
       "      <td>3.08</td>\n",
       "      <td>2.0</td>\n",
       "    </tr>\n",
       "    <tr>\n",
       "      <th>14</th>\n",
       "      <td>1</td>\n",
       "      <td>700.0</td>\n",
       "      <td>4.00</td>\n",
       "      <td>1.0</td>\n",
       "    </tr>\n",
       "    <tr>\n",
       "      <th>15</th>\n",
       "      <td>0</td>\n",
       "      <td>480.0</td>\n",
       "      <td>3.44</td>\n",
       "      <td>3.0</td>\n",
       "    </tr>\n",
       "    <tr>\n",
       "      <th>16</th>\n",
       "      <td>0</td>\n",
       "      <td>780.0</td>\n",
       "      <td>3.87</td>\n",
       "      <td>4.0</td>\n",
       "    </tr>\n",
       "    <tr>\n",
       "      <th>17</th>\n",
       "      <td>0</td>\n",
       "      <td>360.0</td>\n",
       "      <td>2.56</td>\n",
       "      <td>3.0</td>\n",
       "    </tr>\n",
       "    <tr>\n",
       "      <th>18</th>\n",
       "      <td>0</td>\n",
       "      <td>800.0</td>\n",
       "      <td>3.75</td>\n",
       "      <td>2.0</td>\n",
       "    </tr>\n",
       "    <tr>\n",
       "      <th>19</th>\n",
       "      <td>1</td>\n",
       "      <td>540.0</td>\n",
       "      <td>3.81</td>\n",
       "      <td>1.0</td>\n",
       "    </tr>\n",
       "    <tr>\n",
       "      <th>20</th>\n",
       "      <td>0</td>\n",
       "      <td>500.0</td>\n",
       "      <td>3.17</td>\n",
       "      <td>3.0</td>\n",
       "    </tr>\n",
       "    <tr>\n",
       "      <th>21</th>\n",
       "      <td>1</td>\n",
       "      <td>660.0</td>\n",
       "      <td>3.63</td>\n",
       "      <td>2.0</td>\n",
       "    </tr>\n",
       "    <tr>\n",
       "      <th>22</th>\n",
       "      <td>0</td>\n",
       "      <td>600.0</td>\n",
       "      <td>2.82</td>\n",
       "      <td>4.0</td>\n",
       "    </tr>\n",
       "    <tr>\n",
       "      <th>23</th>\n",
       "      <td>0</td>\n",
       "      <td>680.0</td>\n",
       "      <td>3.19</td>\n",
       "      <td>4.0</td>\n",
       "    </tr>\n",
       "    <tr>\n",
       "      <th>24</th>\n",
       "      <td>1</td>\n",
       "      <td>760.0</td>\n",
       "      <td>3.35</td>\n",
       "      <td>2.0</td>\n",
       "    </tr>\n",
       "    <tr>\n",
       "      <th>25</th>\n",
       "      <td>1</td>\n",
       "      <td>800.0</td>\n",
       "      <td>3.66</td>\n",
       "      <td>1.0</td>\n",
       "    </tr>\n",
       "    <tr>\n",
       "      <th>26</th>\n",
       "      <td>1</td>\n",
       "      <td>620.0</td>\n",
       "      <td>3.61</td>\n",
       "      <td>1.0</td>\n",
       "    </tr>\n",
       "    <tr>\n",
       "      <th>27</th>\n",
       "      <td>1</td>\n",
       "      <td>520.0</td>\n",
       "      <td>3.74</td>\n",
       "      <td>4.0</td>\n",
       "    </tr>\n",
       "    <tr>\n",
       "      <th>28</th>\n",
       "      <td>1</td>\n",
       "      <td>780.0</td>\n",
       "      <td>3.22</td>\n",
       "      <td>2.0</td>\n",
       "    </tr>\n",
       "    <tr>\n",
       "      <th>29</th>\n",
       "      <td>0</td>\n",
       "      <td>520.0</td>\n",
       "      <td>3.29</td>\n",
       "      <td>1.0</td>\n",
       "    </tr>\n",
       "    <tr>\n",
       "      <th>...</th>\n",
       "      <td>...</td>\n",
       "      <td>...</td>\n",
       "      <td>...</td>\n",
       "      <td>...</td>\n",
       "    </tr>\n",
       "    <tr>\n",
       "      <th>370</th>\n",
       "      <td>1</td>\n",
       "      <td>540.0</td>\n",
       "      <td>3.77</td>\n",
       "      <td>2.0</td>\n",
       "    </tr>\n",
       "    <tr>\n",
       "      <th>371</th>\n",
       "      <td>1</td>\n",
       "      <td>680.0</td>\n",
       "      <td>3.76</td>\n",
       "      <td>3.0</td>\n",
       "    </tr>\n",
       "    <tr>\n",
       "      <th>372</th>\n",
       "      <td>1</td>\n",
       "      <td>680.0</td>\n",
       "      <td>2.42</td>\n",
       "      <td>1.0</td>\n",
       "    </tr>\n",
       "    <tr>\n",
       "      <th>373</th>\n",
       "      <td>1</td>\n",
       "      <td>620.0</td>\n",
       "      <td>3.37</td>\n",
       "      <td>1.0</td>\n",
       "    </tr>\n",
       "    <tr>\n",
       "      <th>374</th>\n",
       "      <td>0</td>\n",
       "      <td>560.0</td>\n",
       "      <td>3.78</td>\n",
       "      <td>2.0</td>\n",
       "    </tr>\n",
       "    <tr>\n",
       "      <th>375</th>\n",
       "      <td>0</td>\n",
       "      <td>560.0</td>\n",
       "      <td>3.49</td>\n",
       "      <td>4.0</td>\n",
       "    </tr>\n",
       "    <tr>\n",
       "      <th>376</th>\n",
       "      <td>0</td>\n",
       "      <td>620.0</td>\n",
       "      <td>3.63</td>\n",
       "      <td>2.0</td>\n",
       "    </tr>\n",
       "    <tr>\n",
       "      <th>377</th>\n",
       "      <td>1</td>\n",
       "      <td>800.0</td>\n",
       "      <td>4.00</td>\n",
       "      <td>2.0</td>\n",
       "    </tr>\n",
       "    <tr>\n",
       "      <th>378</th>\n",
       "      <td>0</td>\n",
       "      <td>640.0</td>\n",
       "      <td>3.12</td>\n",
       "      <td>3.0</td>\n",
       "    </tr>\n",
       "    <tr>\n",
       "      <th>379</th>\n",
       "      <td>0</td>\n",
       "      <td>540.0</td>\n",
       "      <td>2.70</td>\n",
       "      <td>2.0</td>\n",
       "    </tr>\n",
       "    <tr>\n",
       "      <th>380</th>\n",
       "      <td>0</td>\n",
       "      <td>700.0</td>\n",
       "      <td>3.65</td>\n",
       "      <td>2.0</td>\n",
       "    </tr>\n",
       "    <tr>\n",
       "      <th>381</th>\n",
       "      <td>1</td>\n",
       "      <td>540.0</td>\n",
       "      <td>3.49</td>\n",
       "      <td>2.0</td>\n",
       "    </tr>\n",
       "    <tr>\n",
       "      <th>382</th>\n",
       "      <td>0</td>\n",
       "      <td>540.0</td>\n",
       "      <td>3.51</td>\n",
       "      <td>2.0</td>\n",
       "    </tr>\n",
       "    <tr>\n",
       "      <th>383</th>\n",
       "      <td>0</td>\n",
       "      <td>660.0</td>\n",
       "      <td>4.00</td>\n",
       "      <td>1.0</td>\n",
       "    </tr>\n",
       "    <tr>\n",
       "      <th>384</th>\n",
       "      <td>1</td>\n",
       "      <td>480.0</td>\n",
       "      <td>2.62</td>\n",
       "      <td>2.0</td>\n",
       "    </tr>\n",
       "    <tr>\n",
       "      <th>385</th>\n",
       "      <td>0</td>\n",
       "      <td>420.0</td>\n",
       "      <td>3.02</td>\n",
       "      <td>1.0</td>\n",
       "    </tr>\n",
       "    <tr>\n",
       "      <th>386</th>\n",
       "      <td>1</td>\n",
       "      <td>740.0</td>\n",
       "      <td>3.86</td>\n",
       "      <td>2.0</td>\n",
       "    </tr>\n",
       "    <tr>\n",
       "      <th>387</th>\n",
       "      <td>0</td>\n",
       "      <td>580.0</td>\n",
       "      <td>3.36</td>\n",
       "      <td>2.0</td>\n",
       "    </tr>\n",
       "    <tr>\n",
       "      <th>388</th>\n",
       "      <td>0</td>\n",
       "      <td>640.0</td>\n",
       "      <td>3.17</td>\n",
       "      <td>2.0</td>\n",
       "    </tr>\n",
       "    <tr>\n",
       "      <th>389</th>\n",
       "      <td>0</td>\n",
       "      <td>640.0</td>\n",
       "      <td>3.51</td>\n",
       "      <td>2.0</td>\n",
       "    </tr>\n",
       "    <tr>\n",
       "      <th>390</th>\n",
       "      <td>1</td>\n",
       "      <td>800.0</td>\n",
       "      <td>3.05</td>\n",
       "      <td>2.0</td>\n",
       "    </tr>\n",
       "    <tr>\n",
       "      <th>391</th>\n",
       "      <td>1</td>\n",
       "      <td>660.0</td>\n",
       "      <td>3.88</td>\n",
       "      <td>2.0</td>\n",
       "    </tr>\n",
       "    <tr>\n",
       "      <th>392</th>\n",
       "      <td>1</td>\n",
       "      <td>600.0</td>\n",
       "      <td>3.38</td>\n",
       "      <td>3.0</td>\n",
       "    </tr>\n",
       "    <tr>\n",
       "      <th>393</th>\n",
       "      <td>1</td>\n",
       "      <td>620.0</td>\n",
       "      <td>3.75</td>\n",
       "      <td>2.0</td>\n",
       "    </tr>\n",
       "    <tr>\n",
       "      <th>394</th>\n",
       "      <td>1</td>\n",
       "      <td>460.0</td>\n",
       "      <td>3.99</td>\n",
       "      <td>3.0</td>\n",
       "    </tr>\n",
       "    <tr>\n",
       "      <th>395</th>\n",
       "      <td>0</td>\n",
       "      <td>620.0</td>\n",
       "      <td>4.00</td>\n",
       "      <td>2.0</td>\n",
       "    </tr>\n",
       "    <tr>\n",
       "      <th>396</th>\n",
       "      <td>0</td>\n",
       "      <td>560.0</td>\n",
       "      <td>3.04</td>\n",
       "      <td>3.0</td>\n",
       "    </tr>\n",
       "    <tr>\n",
       "      <th>397</th>\n",
       "      <td>0</td>\n",
       "      <td>460.0</td>\n",
       "      <td>2.63</td>\n",
       "      <td>2.0</td>\n",
       "    </tr>\n",
       "    <tr>\n",
       "      <th>398</th>\n",
       "      <td>0</td>\n",
       "      <td>700.0</td>\n",
       "      <td>3.65</td>\n",
       "      <td>2.0</td>\n",
       "    </tr>\n",
       "    <tr>\n",
       "      <th>399</th>\n",
       "      <td>0</td>\n",
       "      <td>600.0</td>\n",
       "      <td>3.89</td>\n",
       "      <td>3.0</td>\n",
       "    </tr>\n",
       "  </tbody>\n",
       "</table>\n",
       "<p>400 rows × 4 columns</p>\n",
       "</div>"
      ],
      "text/plain": [
       "     admit    gre   gpa  prestige\n",
       "0        0  380.0  3.61       3.0\n",
       "1        1  660.0  3.67       3.0\n",
       "2        1  800.0  4.00       1.0\n",
       "3        1  640.0  3.19       4.0\n",
       "4        0  520.0  2.93       4.0\n",
       "5        1  760.0  3.00       2.0\n",
       "6        1  560.0  2.98       1.0\n",
       "7        0  400.0  3.08       2.0\n",
       "8        1  540.0  3.39       3.0\n",
       "9        0  700.0  3.92       2.0\n",
       "10       0  800.0  4.00       4.0\n",
       "11       0  440.0  3.22       1.0\n",
       "12       1  760.0  4.00       1.0\n",
       "13       0  700.0  3.08       2.0\n",
       "14       1  700.0  4.00       1.0\n",
       "15       0  480.0  3.44       3.0\n",
       "16       0  780.0  3.87       4.0\n",
       "17       0  360.0  2.56       3.0\n",
       "18       0  800.0  3.75       2.0\n",
       "19       1  540.0  3.81       1.0\n",
       "20       0  500.0  3.17       3.0\n",
       "21       1  660.0  3.63       2.0\n",
       "22       0  600.0  2.82       4.0\n",
       "23       0  680.0  3.19       4.0\n",
       "24       1  760.0  3.35       2.0\n",
       "25       1  800.0  3.66       1.0\n",
       "26       1  620.0  3.61       1.0\n",
       "27       1  520.0  3.74       4.0\n",
       "28       1  780.0  3.22       2.0\n",
       "29       0  520.0  3.29       1.0\n",
       "..     ...    ...   ...       ...\n",
       "370      1  540.0  3.77       2.0\n",
       "371      1  680.0  3.76       3.0\n",
       "372      1  680.0  2.42       1.0\n",
       "373      1  620.0  3.37       1.0\n",
       "374      0  560.0  3.78       2.0\n",
       "375      0  560.0  3.49       4.0\n",
       "376      0  620.0  3.63       2.0\n",
       "377      1  800.0  4.00       2.0\n",
       "378      0  640.0  3.12       3.0\n",
       "379      0  540.0  2.70       2.0\n",
       "380      0  700.0  3.65       2.0\n",
       "381      1  540.0  3.49       2.0\n",
       "382      0  540.0  3.51       2.0\n",
       "383      0  660.0  4.00       1.0\n",
       "384      1  480.0  2.62       2.0\n",
       "385      0  420.0  3.02       1.0\n",
       "386      1  740.0  3.86       2.0\n",
       "387      0  580.0  3.36       2.0\n",
       "388      0  640.0  3.17       2.0\n",
       "389      0  640.0  3.51       2.0\n",
       "390      1  800.0  3.05       2.0\n",
       "391      1  660.0  3.88       2.0\n",
       "392      1  600.0  3.38       3.0\n",
       "393      1  620.0  3.75       2.0\n",
       "394      1  460.0  3.99       3.0\n",
       "395      0  620.0  4.00       2.0\n",
       "396      0  560.0  3.04       3.0\n",
       "397      0  460.0  2.63       2.0\n",
       "398      0  700.0  3.65       2.0\n",
       "399      0  600.0  3.89       3.0\n",
       "\n",
       "[400 rows x 4 columns]"
      ]
     },
     "execution_count": 12,
     "metadata": {},
     "output_type": "execute_result"
    }
   ],
   "source": [
    "df"
   ]
  },
  {
   "cell_type": "markdown",
   "metadata": {},
   "source": [
    "#### 1. Create a data dictionary "
   ]
  },
  {
   "cell_type": "code",
   "execution_count": 21,
   "metadata": {},
   "outputs": [
    {
     "name": "stdout",
     "output_type": "stream",
     "text": [
      "{(480.0, 4.0, 2.0): 0, (620.0, 3.99, 3.0): 0, (500.0, 3.31, 3.0): 0, (600.0, 3.35, 2.0): 0, (600.0, 3.38, 3.0): 1, (600.0, 3.32, 2.0): 0, (500.0, 3.53, 4.0): 0, (660.0, 3.07, 3.0): 0, (480.0, 2.67, 2.0): 1, (800.0, 3.54, 3.0): 0, (640.0, 3.76, 3.0): 0, (700.0, 3.27, 2.0): 0, (660.0, 4.0, 1.0): 0, (580.0, 3.4, 2.0): 0, (500.0, 3.08, 3.0): 0, (620.0, 3.94, 4.0): 0, (580.0, 3.29, 4.0): 0, (660.0, 2.91, 3.0): 1, (580.0, 2.93, 2.0): 0, (540.0, 3.51, 2.0): 0, (400.0, 3.31, 3.0): 0, (560.0, 2.42, 2.0): 0, (640.0, 3.81, 2.0): 0, (620.0, 3.43, 3.0): 0, (700.0, 3.56, 2.0): 1, (520.0, 2.85, 3.0): 0, (460.0, 3.99, 3.0): 1, (480.0, 3.13, 2.0): 0, (400.0, 3.05, 2.0): 0, (780.0, 3.8, 3.0): 1, (500.0, 3.35, 2.0): 0, (400.0, 3.23, 4.0): 1, (680.0, 3.85, 3.0): 1, (380.0, 2.94, 3.0): 0, (500.0, 2.79, 4.0): 0, (620.0, 3.37, 2.0): 1, (620.0, 2.85, 2.0): 0, (800.0, 3.9, 2.0): 0, (760.0, 3.35, 3.0): 0, (740.0, 3.31, 1.0): 0, (540.0, 3.39, 3.0): 1, (560.0, 3.24, 4.0): 0, (540.0, 3.77, 2.0): 1, (580.0, 3.46, 4.0): 0, (520.0, 2.93, 4.0): 0, (340.0, 2.9, 1.0): 0, (440.0, 3.45, 2.0): 1, (640.0, 3.73, 3.0): 0, (800.0, 2.78, 2.0): 0, (520.0, 2.7, 3.0): 0, (560.0, 3.43, 3.0): 0, (640.0, 3.12, 3.0): 0, (560.0, 2.52, 2.0): 0, (680.0, 3.46, 2.0): 1, (620.0, 3.61, 1.0): 1, (620.0, 3.75, 2.0): 1, (660.0, 3.6, 3.0): 1, (540.0, 3.12, 1.0): 0, (620.0, 3.21, 4.0): 0, (460.0, 2.63, 2.0): 0, (700.0, 3.83, 2.0): 0, (680.0, 3.67, 2.0): 1, (440.0, 3.15, 2.0): 0, (500.0, 4.0, 3.0): 0, (640.0, 2.79, 2.0): 0, (380.0, 3.61, 3.0): 0, (560.0, 3.32, 4.0): 0, (420.0, 2.69, 2.0): 0, (540.0, 3.2, 1.0): 0, (560.0, 3.16, 1.0): 0, (500.0, 2.97, 4.0): 0, (540.0, 3.78, 4.0): 0, (700.0, 3.65, 2.0): 0, (440.0, 3.17, 2.0): 0, (500.0, 3.57, 3.0): 0, (620.0, 3.18, 2.0): 1, (500.0, 3.13, 2.0): 1, (600.0, 3.54, 1.0): 1, (780.0, 3.22, 2.0): 1, (680.0, 3.19, 4.0): 0, (660.0, 3.88, 2.0): 1, (580.0, 4.0, 3.0): 0, (520.0, 2.68, 3.0): 1, (520.0, 4.0, 1.0): 1, (540.0, 2.81, 3.0): 0, (220.0, 2.83, 3.0): 0, (380.0, 3.59, 4.0): 0, (540.0, 3.5, 2.0): 0, (680.0, 3.98, 2.0): 1, (680.0, 3.14, 2.0): 0, (640.0, 3.35, 3.0): 0, (480.0, 2.55, 1.0): 0, (700.0, 4.0, 3.0): 0, (460.0, 3.64, 3.0): 1, (400.0, 3.36, 2.0): 0, (620.0, 3.33, 3.0): 0, (680.0, 2.42, 1.0): 1, (700.0, 2.88, 2.0): 0, (360.0, 2.56, 3.0): 0, (540.0, 3.49, 1.0): 1, (800.0, 3.66, 1.0): 1, (560.0, 3.78, 2.0): 0, (640.0, 3.86, 3.0): 0, (520.0, 3.9, 3.0): 1, (680.0, 3.0, 4.0): 1, (800.0, 3.75, 2.0): 0, (660.0, 3.44, 2.0): 1, (660.0, 3.32, 1.0): 0, (700.0, 3.28, 1.0): 0, (560.0, 2.71, 3.0): 0, (620.0, 3.17, 2.0): 1, (600.0, 3.56, 2.0): 1, (480.0, 2.78, 3.0): 0, (620.0, 3.09, 4.0): 0, (560.0, 3.48, 2.0): 1, (640.0, 3.63, 1.0): 1, (500.0, 2.86, 4.0): 0, (740.0, 3.74, 4.0): 0, (660.0, 3.14, 2.0): 1, (600.0, 3.64, 3.0): 1, (600.0, 3.59, 2.0): 0, (700.0, 3.45, 3.0): 0, (500.0, 3.6, 3.0): 1, (500.0, 2.71, 2.0): 0, (620.0, 3.22, 2.0): 0, (540.0, 3.33, 3.0): 0, (740.0, 3.37, 4.0): 0, (560.0, 3.36, 3.0): 0, (480.0, 3.45, 2.0): 0, (460.0, 3.15, 4.0): 0, (720.0, 3.64, 1.0): 1, (800.0, 3.05, 2.0): 1, (400.0, 3.35, 3.0): 0, (500.0, 2.93, 4.0): 0, (420.0, 2.67, 3.0): 0, (600.0, 3.63, 3.0): 0, (580.0, 3.58, 1.0): 1, (800.0, 3.43, 2.0): 1, (600.0, 3.62, 3.0): 0, (580.0, 4.0, 2.0): 0, (540.0, 3.19, 2.0): 0, (480.0, 3.44, 3.0): 0, (580.0, 3.77, 4.0): 0, (680.0, 3.48, 3.0): 0, (680.0, 3.64, 3.0): 0, (540.0, 3.84, 2.0): 1, (520.0, 3.12, 2.0): 0, (680.0, 3.34, 2.0): 0, (700.0, 4.0, 2.0): 0, (580.0, 3.46, 2.0): 1, (800.0, 4.0, 4.0): 0, (600.0, 3.58, 1.0): 1, (720.0, 3.45, 4.0): 0, (560.0, 2.65, 3.0): 1, (660.0, 3.63, 2.0): 1, (620.0, 3.58, 2.0): 0, (560.0, 3.04, 3.0): 0, (340.0, 3.0, 2.0): 1, (500.0, 3.03, 3.0): 0, (560.0, 3.59, 2.0): 1, (800.0, 3.73, 1.0): 0, (420.0, 2.26, 4.0): 0, (400.0, 3.51, 3.0): 0, (480.0, 3.39, 4.0): 0, (560.0, 3.07, 2.0): 0, (800.0, 3.47, 3.0): 0, (620.0, 4.0, 2.0): 0, (740.0, 3.54, 1.0): 0, (520.0, 3.35, 3.0): 0, (620.0, 3.69, 3.0): 0, (560.0, 3.19, 3.0): 0, (540.0, 3.78, 2.0): 1, (540.0, 3.13, 2.0): 0, (540.0, 2.7, 2.0): 0, (640.0, 3.93, 2.0): 0, (560.0, 2.98, 1.0): 1, (420.0, 3.41, 4.0): 0, (700.0, 3.52, 4.0): 1, (680.0, 3.11, 2.0): 0, (500.0, 3.88, 4.0): 0, (560.0, 4.0, 3.0): 0, (560.0, 3.33, 4.0): 0, (560.0, 3.69, 3.0): 1, (440.0, 2.76, 2.0): 0, (400.0, 3.15, 2.0): 1, (540.0, 3.16, 3.0): 0, (680.0, 3.27, 2.0): 1, (620.0, 3.07, 2.0): 0, (520.0, 2.73, 2.0): 0, (620.0, 3.63, 3.0): 0, (600.0, 3.13, 2.0): 0, (620.0, 3.78, 3.0): 0, (800.0, 4.0, 3.0): 1, (580.0, 4.0, 1.0): 0, (540.0, 3.94, 3.0): 0, (660.0, nan, nan): 1, (360.0, 3.27, 3.0): 0, (520.0, 3.65, 4.0): 1, (400.0, 3.08, 2.0): 0, (700.0, 4.0, 1.0): 1, (440.0, 3.24, 4.0): 0, (600.0, 3.89, 3.0): 0, (780.0, 3.63, 4.0): 1, (540.0, 3.55, 4.0): 1, (520.0, 2.9, 3.0): 0, (580.0, 3.34, 2.0): 0, (460.0, 2.98, 1.0): 0, (420.0, 3.02, 1.0): 0, (700.0, 3.92, 2.0): 0, (600.0, 3.31, 4.0): 0, (800.0, 3.53, 1.0): 1, (460.0, 3.44, 2.0): 0, (600.0, 3.4, 3.0): 0, (800.0, 3.91, 3.0): 0, (300.0, 2.92, 4.0): 0, (800.0, 3.31, 3.0): 0, (620.0, 3.23, 3.0): 1, (360.0, 3.0, 3.0): 0, (680.0, 3.08, 4.0): 0, (540.0, 3.28, 3.0): 0, (760.0, 3.0, 2.0): 1, (460.0, 3.14, 3.0): 0, (800.0, 3.74, 1.0): 1, (520.0, 4.0, 2.0): 1, (660.0, 3.7, 4.0): 1, (660.0, 3.77, 3.0): 0, (680.0, 2.96, 3.0): 1, (640.0, 3.38, 3.0): 0, (580.0, 3.12, 3.0): 1, (600.0, 3.89, 1.0): 1, (540.0, 3.04, 1.0): 0, (620.0, 3.4, 2.0): 0, (560.0, 3.36, 1.0): 1, (500.0, 3.01, 4.0): 0, (560.0, 3.49, 4.0): 0, (500.0, 3.95, 4.0): 0, (520.0, 3.15, 3.0): 0, (720.0, 3.5, 3.0): 1, (740.0, 3.52, 4.0): 1, (620.0, 3.63, 2.0): 0, (540.0, 3.17, 1.0): 1, (800.0, 4.0, 2.0): 1, (520.0, 3.81, 1.0): 1, (460.0, 3.58, 2.0): 0, (480.0, 2.62, 2.0): 1, (700.0, 2.94, 2.0): 0, (640.0, 3.94, 2.0): 1, (620.0, 4.0, 1.0): 1, (580.0, 3.32, 2.0): 1, (800.0, 3.15, 4.0): 0, (500.0, 3.17, 3.0): 0, (760.0, 2.81, 1.0): 1, (660.0, 3.94, 2.0): 0, (760.0, 4.0, 1.0): 1, (520.0, 3.25, 3.0): 0, (540.0, 3.38, 4.0): 0, (440.0, 2.98, 3.0): 0, (660.0, 3.59, 3.0): 0, (580.0, 3.8, 2.0): 0, (800.0, 3.22, 1.0): 1, (660.0, 3.31, 4.0): 0, (520.0, 3.29, 1.0): 0, (660.0, 3.47, 3.0): 1, (500.0, 2.81, 3.0): 0, (580.0, 3.5, 2.0): 0, (780.0, 3.87, 4.0): 0, (720.0, 3.94, 3.0): 0, (740.0, 3.86, 2.0): 1, (680.0, 3.7, 2.0): 0, (600.0, 2.98, 2.0): 1, (520.0, 3.74, 2.0): 1, (640.0, 2.94, 2.0): 1, (700.0, 3.56, 1.0): 1, (800.0, 3.89, 2.0): 0, (640.0, 3.51, 2.0): 0, (480.0, 3.02, 1.0): 1, (460.0, 3.07, 2.0): 0, (380.0, 3.43, 3.0): 0, (720.0, 3.42, 2.0): 1, (400.0, 3.65, 2.0): 0, (360.0, 3.14, 1.0): 0, (620.0, 3.3, 1.0): 0, (640.0, 3.95, 2.0): 1, (520.0, 3.1, 4.0): 0, (740.0, 3.34, 4.0): 0, (660.0, 3.95, 2.0): 1, (620.0, 3.95, 3.0): 1, (nan, nan, 2.0): 0, (800.0, 4.0, 1.0): 1, (680.0, 3.31, 2.0): 0, (480.0, 2.91, 1.0): 1, (720.0, 3.88, 3.0): 0, (420.0, 2.96, 1.0): 0, (720.0, 3.77, 3.0): 0, (580.0, 3.02, 2.0): 0, (500.0, 2.98, 3.0): 0, (580.0, 2.86, 4.0): 1, (580.0, 3.06, 2.0): 0, (440.0, 2.48, 4.0): 0, (580.0, 3.57, 3.0): 0, (660.0, 3.49, 2.0): 0, (720.0, 3.31, 1.0): 0, (300.0, 3.01, 3.0): 0, (520.0, 2.98, 2.0): 0, (640.0, 3.67, 3.0): 0, (700.0, 3.72, 2.0): 0, (480.0, 3.58, 1.0): 1, (720.0, 3.84, 3.0): 0, (640.0, 3.17, 2.0): 0, (580.0, 3.4, 4.0): 0, (520.0, 3.3, 2.0): 1, (600.0, 3.48, 2.0): 0, (620.0, 3.71, 1.0): 1, (640.0, 3.5, 2.0): 0, (600.0, 2.82, 4.0): 0, (540.0, 3.28, 1.0): 0, (660.0, 3.67, 3.0): 1, (600.0, 3.47, 2.0): 1, (460.0, 3.64, 1.0): 1, (580.0, 3.25, 1.0): 0, (580.0, 3.3, 2.0): 0, (800.0, 3.6, 2.0): 0, (380.0, 3.38, 2.0): 0, (580.0, 3.69, 1.0): 0, (480.0, 3.43, 2.0): 0, (740.0, 4.0, 3.0): 0, (520.0, 3.19, 3.0): 1, (680.0, 3.99, 3.0): 0, (380.0, 3.33, 4.0): 0, (680.0, 3.9, 1.0): 0, (400.0, 3.38, 2.0): 0, (400.0, 2.93, 3.0): 0, (460.0, 2.93, 3.0): 0, (620.0, 3.05, 2.0): 0, (380.0, 3.34, 3.0): 0, (700.0, 3.52, 2.0): 0, (480.0, 3.57, 2.0): 0, (620.0, 3.45, 2.0): 1, (600.0, 3.15, 2.0): 1, (800.0, 2.9, 2.0): 0, (720.0, 3.4, 3.0): 0, (540.0, 3.49, 2.0): 1, (700.0, 3.82, 3.0): 0, (340.0, 3.15, 3.0): 0, (680.0, 3.76, 3.0): 1, (740.0, 2.97, 2.0): 1, (480.0, 3.71, 4.0): 1, (500.0, 3.23, 4.0): 0, (660.0, 3.34, 3.0): 0, (640.0, 3.19, 4.0): 1, (700.0, 3.08, 2.0): 0, (560.0, 2.95, 2.0): 0, (580.0, 3.51, 2.0): 0, (580.0, 3.2, 2.0): 1, (740.0, 3.62, 4.0): 0, (340.0, 2.92, 3.0): 0, (520.0, 2.62, 2.0): 0, (560.0, 3.61, 3.0): 0, (660.0, 4.0, 2.0): 1, (580.0, 3.4, 3.0): 0, (440.0, 3.22, 1.0): 0, (720.0, 4.0, 3.0): 0, (780.0, 4.0, 2.0): 1, (460.0, 3.77, 3.0): 0, (700.0, 2.9, 4.0): 0, (600.0, 3.22, 1.0): 0, (800.0, 3.97, 1.0): 0, (nan, 2.87, 2.0): 0, (520.0, 3.74, 4.0): 1, (440.0, 3.39, 2.0): 1, (640.0, 3.52, 4.0): 0, (300.0, 2.84, 2.0): 1, (480.0, 3.4, 2.0): 0, (380.0, 2.91, 4.0): 0, (580.0, 3.46, 3.0): 0, (540.0, 3.81, 1.0): 1, (460.0, 3.45, 3.0): 1, (620.0, 3.37, 1.0): 1, (540.0, 3.46, 4.0): 0, (760.0, 3.35, 2.0): 1, (800.0, 3.7, 1.0): 1, (640.0, 3.3, 2.0): 0, (580.0, 3.36, 2.0): 0, (660.0, 3.45, 4.0): 0, (420.0, 3.92, 4.0): 0, (640.0, 4.0, 3.0): 0, (600.0, 3.28, 3.0): 0, (660.0, 3.33, 2.0): 0, (440.0, 3.13, 4.0): 0, (660.0, 3.67, 2.0): 0, (540.0, 3.02, 4.0): 0, (520.0, 3.51, 2.0): 0}\n"
     ]
    }
   ],
   "source": [
    "d = pd.read_csv(\"../assets/admissions.csv\",index_col=[1,2,3]).to_dict(orient='index')\n",
    "for key in d:\n",
    "    d[key] = d[key].values()[0]\n",
    "\n",
    "print d"
   ]
  },
  {
   "cell_type": "markdown",
   "metadata": {},
   "source": [
    "### Answer:\n",
    "\n",
    "(Use the markdown table below as a template)\n",
    "\n",
    "Variable | Description | Type of Variable\n",
    "---| ---| ---\n",
    "Var 1 | 0 = not thing 1 = thing | categorical\n",
    "Var 2 | thing in unit X | continuous \n"
   ]
  },
  {
   "cell_type": "markdown",
   "metadata": {},
   "source": [
    "We would like to explore the association between X and Y "
   ]
  },
  {
   "cell_type": "markdown",
   "metadata": {},
   "source": [
    "#### 2. What is the outcome?"
   ]
  },
  {
   "cell_type": "markdown",
   "metadata": {},
   "source": [
    "Answer: admitted (yes/no)"
   ]
  },
  {
   "cell_type": "markdown",
   "metadata": {},
   "source": [
    "#### 3. What are the predictors/covariates? "
   ]
  },
  {
   "cell_type": "markdown",
   "metadata": {},
   "source": [
    "Answer: gre, gpa, prestige"
   ]
  },
  {
   "cell_type": "markdown",
   "metadata": {},
   "source": [
    "#### 4. What timeframe is this data relevent for?"
   ]
  },
  {
   "cell_type": "markdown",
   "metadata": {},
   "source": [
    "Answer: N/A - undefined reporting period"
   ]
  },
  {
   "cell_type": "markdown",
   "metadata": {},
   "source": [
    "#### 5. What is the hypothesis?"
   ]
  },
  {
   "cell_type": "markdown",
   "metadata": {},
   "source": [
    "Answer: GRE and GPA scores will predict the outcome of admittance "
   ]
  },
  {
   "cell_type": "markdown",
   "metadata": {},
   "source": [
    "#### 6.Using the above information, write a well-formed problem statement. \n"
   ]
  },
  {
   "cell_type": "markdown",
   "metadata": {},
   "source": [
    "Answer: \n",
    "What variable or combo variables i.e., GPA and GRE has a higher likelihood of admittance ? \n"
   ]
  },
  {
   "cell_type": "markdown",
   "metadata": {},
   "source": [
    "### Exploratory Analysis Plan"
   ]
  },
  {
   "cell_type": "markdown",
   "metadata": {},
   "source": [
    "Using the lab from a class as a guide, create an exploratory analysis plan. "
   ]
  },
  {
   "cell_type": "markdown",
   "metadata": {},
   "source": [
    "#### 1. What are the goals of the exploratory analysis? "
   ]
  },
  {
   "cell_type": "markdown",
   "metadata": {
    "collapsed": true
   },
   "source": [
    "Answer: to predict what variables or combo variables produces certain outcomes"
   ]
  },
  {
   "cell_type": "markdown",
   "metadata": {},
   "source": [
    "#### 2a. What are the assumptions of the distribution of data? "
   ]
  },
  {
   "cell_type": "markdown",
   "metadata": {},
   "source": [
    "Answer: the higher the GRE and GPA the higher the likelihood of admittance"
   ]
  },
  {
   "cell_type": "markdown",
   "metadata": {},
   "source": [
    "#### 2b. How will determine the distribution of your data? "
   ]
  },
  {
   "cell_type": "markdown",
   "metadata": {
    "collapsed": true
   },
   "source": [
    "Answer: use the mean value, z-test and p-value test , and/or A/B sampling test"
   ]
  },
  {
   "cell_type": "markdown",
   "metadata": {},
   "source": [
    "#### 3a. How might outliers impact your analysis? "
   ]
  },
  {
   "cell_type": "markdown",
   "metadata": {
    "collapsed": true
   },
   "source": [
    "Answer: it can creater a higher standard error (SE) and decrease the probability results of the test "
   ]
  },
  {
   "cell_type": "markdown",
   "metadata": {},
   "source": [
    "#### 3b. How will you test for outliers? "
   ]
  },
  {
   "cell_type": "markdown",
   "metadata": {},
   "source": [
    "Answer: using standard deviation, confidence interview, standard error and  plot z-test and p-test "
   ]
  },
  {
   "cell_type": "markdown",
   "metadata": {},
   "source": [
    "#### 4a. What is colinearity? "
   ]
  },
  {
   "cell_type": "markdown",
   "metadata": {
    "collapsed": true
   },
   "source": [
    "Answer: when threee or more variablies lies on the regression line. this means the variables are correlated "
   ]
  },
  {
   "cell_type": "markdown",
   "metadata": {},
   "source": [
    "#### 4b. How will you test for colinearity? "
   ]
  },
  {
   "cell_type": "markdown",
   "metadata": {},
   "source": [
    "Answer: using the slope formula test (taking two values from 3 or more points) to plot the slope test - slopes of any two pairs of points will be equal. Also use the formula for area of a triangle. "
   ]
  },
  {
   "cell_type": "markdown",
   "metadata": {},
   "source": [
    "#### 5. What is your exploratory analysis plan?\n",
    "Using the above information, write an exploratory analysis plan that would allow you or a colleague to reproduce your analysis 1 year from now. "
   ]
  },
  {
   "cell_type": "markdown",
   "metadata": {},
   "source": [
    "Answer: define the outcome, then define a problem statement, define a hypotheses, and outline what type of statistical test you would use to determine the outcome (taking into account probabilitiy, errors, and outcomes)"
   ]
  },
  {
   "cell_type": "markdown",
   "metadata": {},
   "source": [
    "## Bonus Questions:\n",
    "1. Outline your analysis method for predicting your outcome\n",
    "2. Write an alternative problem statement for your dataset\n",
    "3. Articulate the assumptions and risks of the alternative model"
   ]
  },
  {
   "cell_type": "code",
   "execution_count": null,
   "metadata": {
    "collapsed": true
   },
   "outputs": [],
   "source": [
    "#2) write alternative problem statements\n",
    "Which scores has more weightage GRE or GPA or Prestige to enhance chances of admittance?\n"
   ]
  }
 ],
 "metadata": {
  "kernelspec": {
   "display_name": "Python 2",
   "language": "python",
   "name": "python2"
  },
  "language_info": {
   "codemirror_mode": {
    "name": "ipython",
    "version": 2
   },
   "file_extension": ".py",
   "mimetype": "text/x-python",
   "name": "python",
   "nbconvert_exporter": "python",
   "pygments_lexer": "ipython2",
   "version": "2.7.14"
  }
 },
 "nbformat": 4,
 "nbformat_minor": 1
}
